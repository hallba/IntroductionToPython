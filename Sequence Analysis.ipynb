{
 "cells": [
  {
   "attachments": {
    "image.png": {
     "image/png": "[encoded data removed]"
    }
   },
   "cell_type": "markdown",
   "id": "53cdcbd1",
   "metadata": {},
   "source": [
    "# Sequence analysis\n",
    "\n",
    "## Problem\n",
    "\n",
    "In the folder \"Sequences\" there are text files with the sequences of some introns. \n",
    "\n",
    "Find the length of each intron (i.e. the number of bases it contains) and use these lengths to find the following summary statistics taken across all 50 introns. \n",
    "\n",
    "1. mean length;\n",
    "2. minimum length; \n",
    "3. maximum length; \n",
    "4. (sample) standard deviation of the lengths.\n",
    "\n",
    "## Breaking down the problem/ planning the code\n",
    "\n",
    "We first need to read all of the text files and store their contents to memory. To help reading the text files, we should write code that can generate the names automatically.\n",
    "\n",
    "For each intron, we need to measure the lengths, and then from a list of the lengths calculate the different properties.\n",
    "\n",
    "The average of this list is the sum divided by the length- we can calculate both from the list using the builtin sum and len functions.\n",
    "\n",
    "We should use the built in min and max functions to calculate the min and max. As an illustration however we have calcuated this manually. We start off assuming that the first item is the smallest, then run a for loop to compare each item in the list to this value. If the item is smaller, we replace smallest with the new smallest value. We do something similar for max.\n",
    "\n",
    "Finally, to calculate the standard deviation we use the formula\n",
    "\n",
    "![image.png](attachment:image.png)\n",
    "\n",
    "We use a list comprehension to build a new list of x-mu from the data. We sum that, divide by the list length, then take the square root."
   ]
  },
  {
   "cell_type": "code",
   "execution_count": 4,
   "id": "3711fb62",
   "metadata": {},
   "outputs": [
    {
     "name": "stdout",
     "output_type": "stream",
     "text": [
      "average: 69.36\n",
      "min: 37\n",
      "max: 100\n",
      "sd: 19.208081632479594\n"
     ]
    }
   ],
   "source": [
    "def readIntronLength(name):\n",
    "    with open(name,\"r\") as inp:\n",
    "        intron = inp.readline()\n",
    "    return len(intron)\n",
    "\n",
    "def fileName(number):\n",
    "    return (\"Sequences/%02d.txt\" % number)\n",
    "\n",
    "#Find the lengths of all the sequences\n",
    "intronLengths = [readIntronLength(fileName(n+1)) for n in range(50)]\n",
    "\n",
    "average = sum(intronLengths)/len(intronLengths)\n",
    "print(\"average:\",average)\n",
    "\n",
    "smallest = intronLengths[0]\n",
    "for item in intronLengths:\n",
    "    if item < smallest:\n",
    "        smallest=item\n",
    "print(\"min:\",smallest)\n",
    "\n",
    "biggest = intronLengths[0]\n",
    "for item in intronLengths:\n",
    "    if item > biggest:\n",
    "        biggest=item\n",
    "print(\"max:\",biggest)\n",
    "\n",
    "standardDev = (sum([(item-average)**2 for item in intronLengths])/len(intronLengths))**0.5\n",
    "print(\"sd:\",standardDev)"
   ]
  },
  {
   "cell_type": "markdown",
   "id": "9feb40e6",
   "metadata": {},
   "source": [
    "## Exercises\n",
    "\n",
    "1. Find the total number of A, C, G and T nucleotides across the 50 introns.\n",
    "2. Calculate the base frequency at each position for the first 10 bases of the introns (note the expected answer here is a 4 x 10 matrix, with a row corresponding to each of the bases A, C, G and T, and columns corresponding to each base position)."
   ]
  },
  {
   "cell_type": "code",
   "execution_count": null,
   "id": "04a4f045",
   "metadata": {},
   "outputs": [],
   "source": []
  },
  {
   "cell_type": "markdown",
   "id": "151e2d83",
   "metadata": {},
   "source": [
    "```The code below regenerates the input data```"
   ]
  },
  {
   "cell_type": "code",
   "execution_count": 3,
   "id": "a24d3e6e",
   "metadata": {},
   "outputs": [
    {
     "name": "stdout",
     "output_type": "stream",
     "text": [
      "01.txt 62 GTTTTGAGCGGGTTAGGTAAATGAGGTCCTTGCTCATATTATAGGGTAGATCCGGATACCAA\n",
      "02.txt 97 CGCTGCTCTGTGCTTGGTCGCTCATTTCCTATGCTCACCTATTCAGATTGACGGGCAAGCGTCATTTTTCATTGATGAGGCAAGGTGGTAGTCAAGT\n",
      "03.txt 80 CTAACTTGGGGAGATTCATTCGCTCACTCTTCTATACTTTGGATGTTCGGGCGCCGAGATAACCTACCAAAGTACGTGTG\n",
      "04.txt 90 GCCATTCGACATAAACGGTACTCGAACTGCGAGAAGAATTGGCTTACCGCGGCGGCTATAATGCCTCCATTCTCGAAATCGGAGATTTCC\n",
      "05.txt 80 CCTTAATGAGCCAGTGAAGTTAGCCCAACGGATGGGCCTTTGAGTGTACAAAGTCTACCAACACGGCGTCGACCGAGTGC\n",
      "06.txt 37 TGGAGCCGCCGACTCGCGATCAGTATGATTCACTGAA\n",
      "07.txt 50 CCCTGTTCATTACTATTGCAGCTGTCGTCGCAAATTGTGCTCTTGGGTGG\n",
      "08.txt 60 CCAGTACGACGGTCCCCTATGTGATCAAAGTGGTGTCTAAAGTGCACAAAATGTCGCCCT\n",
      "09.txt 87 GAGCCCGGTCTCTCAGTTTGTAAACCGATTAGGCCTTACTTATCAAGGGAACGGGCGAGTTAACGGCAGACCTTGCGCATACGACCG\n",
      "10.txt 75 CGAGAGTGCTAACAGTACTCGGACAGCCAAATTGTAGCGCGCGTGGCCTAAATTAACCTGTGCGGTAAACAATTC\n",
      "11.txt 61 CTTGTCCACTCTATCGCCATGCAGGTTTTACGCTAAGGCTCAACTGGACAGACGATTGTGT\n",
      "12.txt 46 GTCGGAATGTTTAAAAGTATTCGTGATCGTAAACATCTTTATGGCA\n",
      "13.txt 98 AGTGTTTTCCTCGATCAACTCTTCGGGGCTCGTAAGCATAGCCGTAAGCTAATGAGTGGCGGTGCTTTATCCCGACGCAGGGAGTCGAGCTAGAGTTG\n",
      "14.txt 62 TGTGGACTCTAAAGCCGACCATGGGTATATTAATTGCTGAGACCAACCGGGCACGTTGCCTT\n",
      "15.txt 87 TCCGTTGGCAAGAAGTAGTGATCCGTCTCGGAATGAGTGATAGAACAGCCTAAACATCAAATGTCCAGGCCCTTAGTTTCGGAGGCA\n",
      "16.txt 37 GGCAAGTCCTAAGCGCTCTTAAAGTGGGGCGCGTTAA\n",
      "17.txt 90 ACGGTAAGTTGTGATTCGAATGACTCGACTGCCGATCCCCTGTTGGGGACCCTCTCCGCAAGCACACCATTCCCAGTTGTACATAGGATA\n",
      "18.txt 84 GGGCAGTACACTGCCTCGGTAGGAAATCTCACGAGCGGTCGCTCCTACGCCTCTCCGATATAATGTCCCCGTACAGATTGCCGT\n",
      "19.txt 42 ATGGTCCCTGAGCGATCCGGCAGGCGTATAAGCACGTACCGC\n",
      "20.txt 46 ACAGGTTGATGAAGCACGCTCTACGATACAGAGCCTAATGATCTAA\n",
      "21.txt 85 GGGTCTAGTCCCGAGCTCAGTGCAGCATAAAAACTAGTTACACATTCTGAACTTATCATGCACGCGACGACGGTGGTGTGGCGGT\n",
      "22.txt 78 TAACAATATTGTATGGGTGTCAGGATGGGTATGACATCCCGCCATAACTCGTGGTGATGGATAGTAATTGTGTGCAAA\n",
      "23.txt 92 GTTCCGCACCACGTTTGTCCTTGGCTGACCTCGGTTCGCGAGTCATATCGTTAAACACTAAACTATGTGTGGAAGCAGTGAGACGGTATAGG\n",
      "24.txt 100 GTGGTGCGGCCACGCGAACCTTAAGACTAGTTATCTCGCGCTCCACATTCACGGTGAGGTGTTTGGTGCAAGGGAGCATTAGGAAAGAACGGGTGACACG\n",
      "25.txt 86 CCAGCTAACGTCAACGAAGCAGGGAAACCCTCTTCTCTCCCGAGTCAAAGTTCTCGGGAACCTCGATGTGTAGCAGGTACCCCAGC\n",
      "26.txt 82 ACCTACAAACAGGTTTGAGAATTCGACCGTGGGAGATAGCCGGCCATGTTTTGATGCGCAGACCCCAAACACTTGCGATTGC\n",
      "27.txt 58 ACTCCGTAGGAGGGCAACTGGACTCCCCCCCCGATCTGAACCTGTACTATAGTCAGGC\n",
      "28.txt 98 CTTGACTGTGGGGGTCATTCAATGGCATGTGTTACAACAATAGTGAGGCAAAAGGACACGGAGTGTGGGGTCGTTGGGGGTGTCGGACACTTCCGAGA\n",
      "29.txt 79 TGTCGACAATTCCCACGATGACCTTTGGCTTGGGCAGAGAGTCGTACTACTTGTACCGAATGAAGTGTGTCCCTTGTAC\n",
      "30.txt 67 TAAGTCCTTCTCTATGCTAATCGTTTACCGAAGAATGCGACCGGTTCGGTTGAGCCCGCAAAGAGCA\n",
      "31.txt 48 TTCAGATTGGGTCGAAACCGACATTCGGTACTGAAGTGGAGGGGTCAG\n",
      "32.txt 46 GTCTCCTCAACCGCACTAGCCTGAGTCTAGAGGGTCCCAAATACGC\n",
      "33.txt 57 CTAACTAAGATAGGGGCTAAGATGTACTTAGCGCGGTAAGCAGCACAGTGGACTCCC\n",
      "34.txt 40 CATCCCTCGCTGCCCGCCAAACGCCAACGCGCGTGAGTAC\n",
      "35.txt 91 CGACCGTCGATAGCTCCGATCTCGACAGCATCCGGTCCAGCCGATGGTGGTCCGCTTGCTATGCCTCATTATCAATCTGATGGATAACCTC\n",
      "36.txt 55 CAAATCATATGTATCTCTTTGCCATACTGTGTTAATTCCGCAAATTCTGCATCGA\n",
      "37.txt 86 TCTTAAGTGTCCCTCCTCTTCGCAGTGGCATATCTCATGGTGACTTAGGCTAGAATCTTTATCGAAAACAATGCTAGGTCCGCTCC\n",
      "38.txt 92 GGTAAAACATCGCAAATACTAAGAAGCGCGAGCAGCCGTACCCCTTCCCGCTGACTTGTAGGCCTTTCGTTTCAGCCATTACAAATAGGCAT\n",
      "39.txt 46 GCGCAAACCTACTCACATTTATGTGGTAAGGGCTCGATATGGAATA\n",
      "40.txt 62 CGAGGGGCGAAGCTACATCAACTCCCGTCGGACTTAGCAGCACAAAGGGTCTACCTAGATGG\n",
      "41.txt 48 CCGTTTTGCCGAACGCGGCGCGAACGGAAAAGCACATGCTACAGTGGC\n",
      "42.txt 38 GAATTCCTTTCCCAGGGTGTAAAACGGCCTCTACCCTG\n",
      "43.txt 63 TTTGACTTATGGCGAGCTGAGACAAACTACTGGATCCCCCGGACTGTACGGGCTCAACCGGAC\n",
      "44.txt 83 TTGGTCGTAACCTGCCGCCTGGAATCACCTCGTACCGGGTAGCGCCCCTTAAAACGGTGTTGCATATACAGAGATATATGCGA\n",
      "45.txt 65 CCGGAGCATCCGCGCCCCGTTGACTTCCGAGTCGCTGTGTCCACGGGGGCCGTAAACGGGGTTCG\n",
      "46.txt 47 GCGAGACACCACTGGCGGTTGCGATACAGGTGGGCATTGAAGCAAAA\n",
      "47.txt 73 AATTGCGCCGTAGGGAGCTGGCGTATACGACGCTATTTTGAGCGAACTACTTTTGATGGTCTAGTCGGTGTCC\n",
      "48.txt 59 GGCACCTATATCCGGGGGCCACGCGCTCGACCGATGGAGAATAATGCTGCCTCGGTAAT\n",
      "49.txt 94 AGGTCTAAACAGGCCGTGGACCTACCCTGTTAACAAGTCCAATGTCGCAGTCATATCTACAATTCCCGCAAGCAGTGAGAGGCTGGTTCCATCT\n",
      "50.txt 79 TTTATTGGGACGCCACATCAGTGACCGTCCTTTGACGCTCGCGCGTAACCATAGGGTGCGTCCAAATATTGATTGGGAC\n"
     ]
    }
   ],
   "source": [
    "# Generate our data\n",
    "import random\n",
    "\n",
    "nuc = {\n",
    "    0: \"A\",\n",
    "    1: \"C\",\n",
    "    2: \"T\",\n",
    "    3: \"G\"\n",
    "}\n",
    "\n",
    "for i in range(50):\n",
    "    name = \"%02d.txt\" % (i+1)\n",
    "    length = random.randint(37,101)\n",
    "    sequence=\"\"\n",
    "    for i in range(length):\n",
    "        base = random.randint(0,3)\n",
    "        sequence += (nuc[base])\n",
    "    print(name,length,sequence)\n",
    "    with open(\"sequences/\"+name,\"w\") as oup:\n",
    "        oup.write(sequence)\n",
    "    "
   ]
  },
  {
   "cell_type": "code",
   "execution_count": null,
   "id": "c884448b",
   "metadata": {},
   "outputs": [],
   "source": []
  }
 ],
 "metadata": {
  "kernelspec": {
   "display_name": "Python 3 (ipykernel)",
   "language": "python",
   "name": "python3"
  },
  "language_info": {
   "codemirror_mode": {
    "name": "ipython",
    "version": 3
   },
   "file_extension": ".py",
   "mimetype": "text/x-python",
   "name": "python",
   "nbconvert_exporter": "python",
   "pygments_lexer": "ipython3",
   "version": "3.9.12"
  }
 },
 "nbformat": 4,
 "nbformat_minor": 5
}
