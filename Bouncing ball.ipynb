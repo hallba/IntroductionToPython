{
 "cells": [
  {
   "cell_type": "code",
   "execution_count": 10,
   "id": "f29552f3",
   "metadata": {},
   "outputs": [],
   "source": [
    "class ball:\n",
    "    def __init__(self,x,y):\n",
    "        self.x = x\n",
    "        self.y = y\n",
    "        self.vx = 1\n",
    "        self.vy = 1\n",
    "        self.trajectoryX=[self.x]\n",
    "        self.trajectoryY=[self.y]\n",
    "    def move(self,t):\n",
    "        self.x = self.x + self.vx*t\n",
    "        self.y = self.y + self.vy*t\n",
    "        self.bounds()\n",
    "        self.trajectoryX.append(self.x)\n",
    "        self.trajectoryY.append(self.y)\n",
    "    def bounds(self):\n",
    "        #reflect in x\n",
    "        if self.x<0:\n",
    "            self.x=0\n",
    "            self.vx=-self.vx\n",
    "        elif self.x>100:\n",
    "            self.x=100\n",
    "            self.vx=-self.vx\n",
    "        #reflect in y\n",
    "        if self.y<0:\n",
    "            self.y=0\n",
    "            self.vy=-self.vy\n",
    "        elif self.y>100:\n",
    "            self.y=100\n",
    "            self.vy=-self.vy"
   ]
  },
  {
   "cell_type": "code",
   "execution_count": 11,
   "id": "6a9271ad",
   "metadata": {},
   "outputs": [],
   "source": [
    "a = ball(90,85)\n",
    "for i in range(100):\n",
    "    a.move(0.5)"
   ]
  },
  {
   "cell_type": "code",
   "execution_count": 12,
   "id": "a379b3fb",
   "metadata": {},
   "outputs": [
    {
     "data": {
      "text/plain": [
       "[90,\n",
       " 90.5,\n",
       " 91.0,\n",
       " 91.5,\n",
       " 92.0,\n",
       " 92.5,\n",
       " 93.0,\n",
       " 93.5,\n",
       " 94.0,\n",
       " 94.5,\n",
       " 95.0,\n",
       " 95.5,\n",
       " 96.0,\n",
       " 96.5,\n",
       " 97.0,\n",
       " 97.5,\n",
       " 98.0,\n",
       " 98.5,\n",
       " 99.0,\n",
       " 99.5,\n",
       " 100.0,\n",
       " 100,\n",
       " 99.5,\n",
       " 99.0,\n",
       " 98.5,\n",
       " 98.0,\n",
       " 97.5,\n",
       " 97.0,\n",
       " 96.5,\n",
       " 96.0,\n",
       " 95.5,\n",
       " 95.0,\n",
       " 94.5,\n",
       " 94.0,\n",
       " 93.5,\n",
       " 93.0,\n",
       " 92.5,\n",
       " 92.0,\n",
       " 91.5,\n",
       " 91.0,\n",
       " 90.5,\n",
       " 90.0,\n",
       " 89.5,\n",
       " 89.0,\n",
       " 88.5,\n",
       " 88.0,\n",
       " 87.5,\n",
       " 87.0,\n",
       " 86.5,\n",
       " 86.0,\n",
       " 85.5,\n",
       " 85.0,\n",
       " 84.5,\n",
       " 84.0,\n",
       " 83.5,\n",
       " 83.0,\n",
       " 82.5,\n",
       " 82.0,\n",
       " 81.5,\n",
       " 81.0,\n",
       " 80.5,\n",
       " 80.0,\n",
       " 79.5,\n",
       " 79.0,\n",
       " 78.5,\n",
       " 78.0,\n",
       " 77.5,\n",
       " 77.0,\n",
       " 76.5,\n",
       " 76.0,\n",
       " 75.5,\n",
       " 75.0,\n",
       " 74.5,\n",
       " 74.0,\n",
       " 73.5,\n",
       " 73.0,\n",
       " 72.5,\n",
       " 72.0,\n",
       " 71.5,\n",
       " 71.0,\n",
       " 70.5,\n",
       " 70.0,\n",
       " 69.5,\n",
       " 69.0,\n",
       " 68.5,\n",
       " 68.0,\n",
       " 67.5,\n",
       " 67.0,\n",
       " 66.5,\n",
       " 66.0,\n",
       " 65.5,\n",
       " 65.0,\n",
       " 64.5,\n",
       " 64.0,\n",
       " 63.5,\n",
       " 63.0,\n",
       " 62.5,\n",
       " 62.0,\n",
       " 61.5,\n",
       " 61.0,\n",
       " 60.5]"
      ]
     },
     "execution_count": 12,
     "metadata": {},
     "output_type": "execute_result"
    }
   ],
   "source": [
    "a.trajectoryX"
   ]
  },
  {
   "cell_type": "code",
   "execution_count": 14,
   "id": "5b3677d0",
   "metadata": {},
   "outputs": [
    {
     "data": {
      "text/plain": [
       "[<matplotlib.lines.Line2D at 0x2375e2beb20>]"
      ]
     },
     "execution_count": 14,
     "metadata": {},
     "output_type": "execute_result"
    },
    {
     "data": {
      "image/png": "[encoded data removed]",
      "text/plain": [
       "<Figure size 640x480 with 1 Axes>"
      ]
     },
     "metadata": {},
     "output_type": "display_data"
    }
   ],
   "source": [
    "from matplotlib import pyplot as pt\n",
    "pt.plot(a.trajectoryX,a.trajectoryY)"
   ]
  },
  {
   "cell_type": "code",
   "execution_count": null,
   "id": "11802dac",
   "metadata": {},
   "outputs": [],
   "source": []
  }
 ],
 "metadata": {
  "kernelspec": {
   "display_name": "Python 3 (ipykernel)",
   "language": "python",
   "name": "python3"
  },
  "language_info": {
   "codemirror_mode": {
    "name": "ipython",
    "version": 3
   },
   "file_extension": ".py",
   "mimetype": "text/x-python",
   "name": "python",
   "nbconvert_exporter": "python",
   "pygments_lexer": "ipython3",
   "version": "3.8.13"
  }
 },
 "nbformat": 4,
 "nbformat_minor": 5
}
