{
 "cells": [
  {
   "cell_type": "markdown",
   "id": "5005f63c",
   "metadata": {},
   "source": [
    "# Beginning to program in python\n",
    "\n",
    "This is a short introduction to learning how to program in python. It assumes no prior experience of programming, and is intended as a quick start guide to engage with common concepts and tools. It is not exhaustive- it should supplement other practical materials.\n",
    "\n",
    "Fundamentally, computer programs exist to transform data to serve a useful purpose. This is true whether the program is designed to play a video from a file, or to simulate the growth of cells in a tissue. When you write programs you are essentially writing all the steps in the transformation that you need to take in order to do that useful work. \n",
    "\n",
    "There is one key theme in this tutorial. \n",
    "\n",
    "`You should avoid repeatedly copy-pasting your own code, and avoid writing the same code over and over again.`\n",
    "\n",
    "## Introduction to jupyter notebooks\n",
    "\n",
    "The tutorial is written as a jupyter notebook. This is a web based approach for python that allows you to heavily annotate your code with descriptions (written in the plain text format Markdown). Sections (known as cells) can also be written as code, which can be executed in the browser by pressing run. Here we present two types of code cell- examples, which should run without issue, and exercises, where you are expected to write code that performs some task. Correct outputs will be given below the exercises- whilst you know the answers, it is up to you to work out what code should fit in the gaps.\n",
    "\n",
    "## Basic concepts- variables, objects, and types\n",
    "\n",
    "To start working with data, we need to store information in memory, in a way we can reference to use later on. We do this by creating *variables*- named entities we can manipulate in the program. There exist a number of simple variable types that we will use heavily, for example a, b, and c below are an integer (known as an int), a floating point number (a number with a decimal point, also known as a float), and a string (text, distiguished from variable names by use of quotation marks). The equals is used to assign the contents"
   ]
  },
  {
   "cell_type": "code",
   "execution_count": 3,
   "id": "0757c398",
   "metadata": {},
   "outputs": [],
   "source": [
    "a = 10\n",
    "b = 4.1\n",
    "c = \"words\""
   ]
  },
  {
   "cell_type": "markdown",
   "id": "747b4b3f",
   "metadata": {},
   "source": [
    "We can create variables by performing *operations* on different values- for example we can set a to 15 by adding 10 and five, and we can set b to 22 by adding a and 7"
   ]
  },
  {
   "cell_type": "code",
   "execution_count": 4,
   "id": "f62710c0",
   "metadata": {},
   "outputs": [],
   "source": [
    "a = 10 + 5\n",
    "b = a + 7"
   ]
  },
  {
   "cell_type": "markdown",
   "id": "77f7bc12",
   "metadata": {},
   "source": [
    "Integers, floats, and string are all examples of *objects*, and the specific object a variable represents is known as a *type*. You are always able to mix objects of the same type, but objects of different types may raise an error. So adding two ints is fine"
   ]
  },
  {
   "cell_type": "code",
   "execution_count": 5,
   "id": "5e324c68",
   "metadata": {},
   "outputs": [
    {
     "data": {
      "text/plain": [
       "15"
      ]
     },
     "execution_count": 5,
     "metadata": {},
     "output_type": "execute_result"
    }
   ],
   "source": [
    "5 + 10"
   ]
  },
  {
   "cell_type": "markdown",
   "id": "dbddd36a",
   "metadata": {},
   "source": [
    "Adding an int and a float is also fine"
   ]
  },
  {
   "cell_type": "code",
   "execution_count": 6,
   "id": "f48b6dfd",
   "metadata": {},
   "outputs": [
    {
     "data": {
      "text/plain": [
       "15.1"
      ]
     },
     "execution_count": 6,
     "metadata": {},
     "output_type": "execute_result"
    }
   ],
   "source": [
    "5 + 10.1"
   ]
  },
  {
   "cell_type": "markdown",
   "id": "42d610b3",
   "metadata": {},
   "source": [
    "But adding a string and an int raises an error (note the quotation marks around the 10, indicating that it is a string)"
   ]
  },
  {
   "cell_type": "code",
   "execution_count": 7,
   "id": "2c2d559f",
   "metadata": {},
   "outputs": [
    {
     "ename": "TypeError",
     "evalue": "unsupported operand type(s) for +: 'int' and 'str'",
     "output_type": "error",
     "traceback": [
      "\u001b[1;31m---------------------------------------------------------------------------\u001b[0m",
      "\u001b[1;31mTypeError\u001b[0m                                 Traceback (most recent call last)",
      "\u001b[1;32m~\\AppData\\Local\\Temp\\ipykernel_40096\\2330720926.py\u001b[0m in \u001b[0;36m<module>\u001b[1;34m\u001b[0m\n\u001b[1;32m----> 1\u001b[1;33m \u001b[1;36m5\u001b[0m \u001b[1;33m+\u001b[0m \u001b[1;34m\"10\"\u001b[0m\u001b[1;33m\u001b[0m\u001b[1;33m\u001b[0m\u001b[0m\n\u001b[0m",
      "\u001b[1;31mTypeError\u001b[0m: unsupported operand type(s) for +: 'int' and 'str'"
     ]
    }
   ],
   "source": [
    "5 + \"10\""
   ]
  },
  {
   "cell_type": "markdown",
   "id": "6b051ca4",
   "metadata": {},
   "source": [
    "### Comments\n",
    "\n",
    "*Comments* are pieces of text in the code that are not executed. They can be written to help the reader (including you) understand what the code is doing. Any text behind a *#* on a single line is a comment and not executed, and any text between triple quotation marks over multiple lines is also a comment. "
   ]
  },
  {
   "cell_type": "code",
   "execution_count": 19,
   "id": "7609c35c",
   "metadata": {},
   "outputs": [],
   "source": [
    "a = 10 # this is an int\n",
    "'''\n",
    "The code below defines b,\n",
    "a string\n",
    "'''\n",
    "b = \"someText\""
   ]
  },
  {
   "cell_type": "markdown",
   "id": "7b717b1c",
   "metadata": {},
   "source": [
    "## Functions\n",
    "\n",
    "In this case, you may be able to convert one type to another by using a *function*. Functions essentially run code that has been written elsewhere. To run a function you write the functions name, followed by rounded brackets containing inputs, if any for the function. Different inputs for the function are separated by commas.\n",
    "\n",
    "So to convert a string \"10\" to an int we can run *int(\"10\")*. This allows us to complete the sum"
   ]
  },
  {
   "cell_type": "code",
   "execution_count": 8,
   "id": "e17d435d",
   "metadata": {},
   "outputs": [
    {
     "data": {
      "text/plain": [
       "15"
      ]
     },
     "execution_count": 8,
     "metadata": {},
     "output_type": "execute_result"
    }
   ],
   "source": [
    "5 + int(\"10\")"
   ]
  },
  {
   "cell_type": "markdown",
   "id": "20f04e13",
   "metadata": {},
   "source": [
    "A function we will use heavily here is *print*, which writes an input to the screen, converting elements to strings if necessary.\n",
    "\n",
    "The code below prints two things by running print twice. It prints a string, then prints a string and an int, converting the int to a string without the need for explicit conversion"
   ]
  },
  {
   "cell_type": "code",
   "execution_count": 9,
   "id": "1e23acb1",
   "metadata": {},
   "outputs": [
    {
     "name": "stdout",
     "output_type": "stream",
     "text": [
      "This is a test\n"
     ]
    }
   ],
   "source": [
    "print(\"This is a test\")"
   ]
  },
  {
   "cell_type": "code",
   "execution_count": 10,
   "id": "e7e7f2a7",
   "metadata": {},
   "outputs": [
    {
     "name": "stdout",
     "output_type": "stream",
     "text": [
      "This number is ten: 10\n"
     ]
    }
   ],
   "source": [
    "print(\"This number is ten:\", 10)"
   ]
  },
  {
   "cell_type": "markdown",
   "id": "f98e328c",
   "metadata": {},
   "source": [
    "You can define your own functions too. *def* indicates that you are defining a function, the colon indicates the start of the function definition, and indentation is used to separate the code in your function definition from unrelated code written below the function. At the end of the function, the *return* keyword is used to pass data back from the function. If you don't need to return data- for example, if the function is just needed to print a value- the return can be omitted.\n",
    "\n",
    "For example, this code defines a function called addFive, that takes an input, adds five to it, then returns the result. The line of code below the function sets a variable using addFive. This variable is then printed."
   ]
  },
  {
   "cell_type": "code",
   "execution_count": 12,
   "id": "9ecdcc33",
   "metadata": {},
   "outputs": [
    {
     "name": "stdout",
     "output_type": "stream",
     "text": [
      "The result is : 15\n"
     ]
    }
   ],
   "source": [
    "def addFive(inputNumber):\n",
    "    result = inputNumber + 5\n",
    "    return result\n",
    "\n",
    "a = addFive(10) #sets a to 15\n",
    "print(\"The result is :\", a)"
   ]
  },
  {
   "cell_type": "markdown",
   "id": "e007e72b",
   "metadata": {},
   "source": [
    "### Exercise\n",
    "\n",
    "Write a function that squares a number and prints it. Once complete, the code below should print 25 and 49"
   ]
  },
  {
   "cell_type": "code",
   "execution_count": 14,
   "id": "67eafe87",
   "metadata": {},
   "outputs": [
    {
     "ename": "IndentationError",
     "evalue": "expected an indented block (2583598160.py, line 3)",
     "output_type": "error",
     "traceback": [
      "\u001b[1;36m  File \u001b[1;32m\"C:\\Users\\hallb\\AppData\\Local\\Temp\\ipykernel_40096\\2583598160.py\"\u001b[1;36m, line \u001b[1;32m3\u001b[0m\n\u001b[1;33m    square(5)\u001b[0m\n\u001b[1;37m    ^\u001b[0m\n\u001b[1;31mIndentationError\u001b[0m\u001b[1;31m:\u001b[0m expected an indented block\n"
     ]
    }
   ],
   "source": [
    "def square():\n",
    "    \n",
    "square(5)\n",
    "square(7)"
   ]
  },
  {
   "cell_type": "markdown",
   "id": "14cb9eb5",
   "metadata": {},
   "source": [
    "Why define our own functions? If we want to run a set of instructions repeatedly a function can avoid us copying and pasting the code. The above code is a simple example, but we can define complex functions and avoid having to repeat them\n",
    "\n",
    "## Loops and conditionals\n",
    "\n",
    "A *loop* is code that is run repeatedly. They are usually controlled by *conditional statements*- terms which evaluate to true or false. Once the condition evaluates to false, the loop stops running. Like function definitions, indentation is used to indicate which code belongs to the loop.\n",
    "\n",
    "```\n",
    "Note- you can create an infinite loop here if you specify the end condition is always true. We don't want to do this here, so if you do by accident you can stop code running with the stop button (square) in the top row of controls.\n",
    "```\n",
    "\n",
    "*while* will run the code until the conditional statement becomes untrue. The example below runs until a is greater than or equal to 5, printing and incrementing a at each step."
   ]
  },
  {
   "cell_type": "code",
   "execution_count": 18,
   "id": "be34c66f",
   "metadata": {},
   "outputs": [
    {
     "name": "stdout",
     "output_type": "stream",
     "text": [
      "0\n",
      "1\n",
      "2\n",
      "3\n",
      "4\n"
     ]
    }
   ],
   "source": [
    "a = 0\n",
    "while a<5:\n",
    "    print(a)\n",
    "    a = a + 1"
   ]
  },
  {
   "cell_type": "markdown",
   "id": "e6319e90",
   "metadata": {},
   "source": [
    "The while loop below multiplies a value by 2 until the result is divisible by 32. This code also introduces the *%* operator, which returns the remainder from dividing the first number by the second, and the not equal to comparison *!=*, which returns true if the value is not equal to the value."
   ]
  },
  {
   "cell_type": "code",
   "execution_count": 22,
   "id": "e55455d8",
   "metadata": {},
   "outputs": [
    {
     "name": "stdout",
     "output_type": "stream",
     "text": [
      "1\n",
      "2\n",
      "4\n",
      "8\n",
      "16\n"
     ]
    }
   ],
   "source": [
    "a=1\n",
    "while a%32 != 0:\n",
    "    print(a)\n",
    "    a = a * 2"
   ]
  },
  {
   "cell_type": "markdown",
   "id": "63fe67fe",
   "metadata": {},
   "source": [
    "Conditional statements can also be used in your code outside of loops, to run some code only under certain conditions. Here you can use if statements as below. In the example we define a function that prints a string depending on the value given. If the value is equal to ten, it prints \"10 is ten\". If that is not true, it performs another test (*elif*, meaning else if), and if if the value is 5 it prints \"5 is five\". If neither of these are true, it runs the code following *else*.\n",
    "\n",
    "`Note- when using a value in a conditional statement, we use == to mean is equal to, in order to avoid confusing it with the = used in variable assigment`"
   ]
  },
  {
   "cell_type": "code",
   "execution_count": 23,
   "id": "7a9e7705",
   "metadata": {},
   "outputs": [
    {
     "name": "stdout",
     "output_type": "stream",
     "text": [
      "7 is not ten or five\n",
      "10 is ten\n",
      "5 is five\n",
      "2 is not ten or five\n"
     ]
    }
   ],
   "source": [
    "def isThisTenOrFive(inputNumber):\n",
    "    if inputNumber == 10:\n",
    "        print(inputNumber, \"is ten\")\n",
    "    elif inputNumber == 5:\n",
    "        print(inputNumber, \"is five\")\n",
    "    else:\n",
    "        print(inputNumber, \"is not ten or five\")\n",
    "        \n",
    "isThisTenOrFive(7)\n",
    "isThisTenOrFive(10)\n",
    "isThisTenOrFive(5)\n",
    "isThisTenOrFive(2)"
   ]
  },
  {
   "cell_type": "markdown",
   "id": "d8f0288a",
   "metadata": {},
   "source": [
    "### Exercise- FizzBuzz\n",
    "\n",
    "Write code that counts from 0 to 20. For each number the code should print the value. If the value divides by 3 also print \"fizz\". If the value divides by 5 also print \"buzz\"."
   ]
  },
  {
   "cell_type": "code",
   "execution_count": null,
   "id": "6da3c38e",
   "metadata": {},
   "outputs": [],
   "source": []
  },
  {
   "cell_type": "markdown",
   "id": "3bbe0fbf",
   "metadata": {},
   "source": [
    "## Lists\n",
    "\n",
    "So far, all of the types we have used so far represent single values. Python also has a number of *collection* types too that can contain multiple values. A *list* in python is an example of an ordered collection. It can contain different types, and the values in the list can be accessed by using the position of a value in the collection (known as the index). All indices in python start counting from zero, so the first element in a list is the 0th.\n",
    "\n",
    "To define a list you write each element, separated by commas, between square brackets. To retrieve a single value from the list, write the list variable name followed by square brackets containing the list index, as below."
   ]
  },
  {
   "cell_type": "code",
   "execution_count": 15,
   "id": "2ac972d2",
   "metadata": {},
   "outputs": [
    {
     "name": "stdout",
     "output_type": "stream",
     "text": [
      "1\n",
      "6\n"
     ]
    }
   ],
   "source": [
    "aList = [1,2,5,6,9,10] #integers separated by commas\n",
    "print(aList[0]) # prints 1\n",
    "print(aList[3]) # prints 6"
   ]
  },
  {
   "cell_type": "markdown",
   "id": "bb2430e9",
   "metadata": {},
   "source": [
    "Once you have defined a list, you can use for loops to perform a function on every element. Here we define a local variable called item, that is used in the loop to refer to the current element."
   ]
  },
  {
   "cell_type": "code",
   "execution_count": 25,
   "id": "9f306c2a",
   "metadata": {},
   "outputs": [
    {
     "name": "stdout",
     "output_type": "stream",
     "text": [
      "2\n",
      "4\n",
      "10\n",
      "12\n",
      "18\n",
      "20\n"
     ]
    }
   ],
   "source": [
    "for item in aList:\n",
    "    print(item*2)"
   ]
  },
  {
   "cell_type": "markdown",
   "id": "5a28696f",
   "metadata": {},
   "source": [
    "You can also create new lists from existing ones using loops. One way to do this is to *append* values to a list, using a *method* associated with list types called append. Methods are functions associated with a type, and are called as shown below"
   ]
  },
  {
   "cell_type": "code",
   "execution_count": 29,
   "id": "81d82e51",
   "metadata": {},
   "outputs": [
    {
     "name": "stdout",
     "output_type": "stream",
     "text": [
      "[2, 4, 10, 12, 18, 20]\n"
     ]
    }
   ],
   "source": [
    "doubles = [] # this is an empty list\n",
    "for item in aList:\n",
    "    doubles.append(item*2) # the append method adds an item to the list called doubles\n",
    "print(doubles)"
   ]
  },
  {
   "cell_type": "markdown",
   "id": "daf6a5f4",
   "metadata": {},
   "source": [
    "Another approach is to use a *list comprehension*. This generates a list from another list using the syntax below."
   ]
  },
  {
   "cell_type": "code",
   "execution_count": 30,
   "id": "5609a339",
   "metadata": {},
   "outputs": [
    {
     "name": "stdout",
     "output_type": "stream",
     "text": [
      "[3, 6, 15, 18, 27, 30]\n"
     ]
    }
   ],
   "source": [
    "triples = [item*3 for item in aList ]\n",
    "print(triples)"
   ]
  },
  {
   "cell_type": "markdown",
   "id": "d4fd0674",
   "metadata": {},
   "source": [
    "### Range\n",
    "\n",
    "Range is a useful function that is commonly used with for loops- it returns a sequence of integers from the inputs. It optionally accepts up to 3 inputs, with start, stop, and step values. Only the stop value is required; start defaults to 0 and step defaults to 1.\n",
    "\n",
    "*range(5)* will return a sequence containing 0,1,2,3,4\n",
    "\n",
    "*range(2,7)* will return a sequence containing 2,3,4,5,6\n",
    "\n",
    "*range(0,10,2)* will return 0,2,4,6,8\n",
    "\n",
    "The code below can be modified to test these"
   ]
  },
  {
   "cell_type": "code",
   "execution_count": 31,
   "id": "93570ff5",
   "metadata": {},
   "outputs": [
    {
     "name": "stdout",
     "output_type": "stream",
     "text": [
      "0\n",
      "2\n",
      "4\n",
      "6\n",
      "8\n"
     ]
    }
   ],
   "source": [
    "for item in range(0,10,2):\n",
    "    print(item)"
   ]
  },
  {
   "cell_type": "markdown",
   "id": "f6643ed7",
   "metadata": {},
   "source": [
    "## Creating your own objects\n",
    "\n",
    "We've seen that python has a number of built in objects, such as ints and lists. Some of these objects have their own methods defined- functions that belong to the object and can perform tasks based on the object. \n",
    "\n",
    "We can define our own objects too. The *class* keyword allows us to define our own named objects, inside which we can define methods."
   ]
  },
  {
   "cell_type": "code",
   "execution_count": 35,
   "id": "b0a630b3",
   "metadata": {},
   "outputs": [
    {
     "name": "stdout",
     "output_type": "stream",
     "text": [
      "x: 1 y: 2\n",
      "2.23606797749979\n",
      "x: 4 y: 6\n"
     ]
    }
   ],
   "source": [
    "class vector:\n",
    "    def __init__(self,x,y):\n",
    "        self.x=x\n",
    "        self.y=y\n",
    "    def length(self):\n",
    "        return (self.x**2+self.y**2)**0.5\n",
    "    def scale(self,factor):\n",
    "        return vector(self.x*factor, self.y*factor)\n",
    "    def __add__(self,other):\n",
    "        return vector(self.x+other.x,self.y+other.y)\n",
    "    def __repr__(self):\n",
    "        return \"x: \"+str(self.x)+\" y: \"+str(self.y)\n",
    "    \n",
    "a=vector(1,2)\n",
    "b=vector(3,4)\n",
    "print(a)\n",
    "print(a.length())\n",
    "print(a+b)"
   ]
  },
  {
   "cell_type": "code",
   "execution_count": null,
   "id": "ed356685",
   "metadata": {},
   "outputs": [],
   "source": []
  }
 ],
 "metadata": {
  "kernelspec": {
   "display_name": "Python 3 (ipykernel)",
   "language": "python",
   "name": "python3"
  },
  "language_info": {
   "codemirror_mode": {
    "name": "ipython",
    "version": 3
   },
   "file_extension": ".py",
   "mimetype": "text/x-python",
   "name": "python",
   "nbconvert_exporter": "python",
   "pygments_lexer": "ipython3",
   "version": "3.8.13"
  }
 },
 "nbformat": 4,
 "nbformat_minor": 5
}
