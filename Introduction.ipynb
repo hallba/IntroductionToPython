{
 "cells": [
  {
   "cell_type": "markdown",
   "id": "c7953051",
   "metadata": {},
   "source": [
    "# Beginning to program in python\n",
    "\n",
    "This is a short introduction to learning how to program in python. It assumes no prior experience of programming, and is intended as a quick start guide to engage with common concepts and tools. It is not exhaustive- it should supplement other practical materials.\n",
    "\n",
    "Fundamentally, computer programs exist to transform data to serve a useful purpose. This is true whether the program is designed to play a video from a file, or to simulate the growth of cells in a tissue. When you write programs you are essentially writing all the steps in the transformation that you need to take in order to do that useful work. \n",
    "\n",
    "This document is intended to introduce you to the language. There are two other notebooks, Bouncing ball and Sequence Analysis which discuss how to write code to solve useful problems.\n",
    "\n",
    "## Introduction to jupyter notebooks\n",
    "\n",
    "The tutorial is written as a jupyter notebook. This is a web based approach for python that allows you to heavily annotate your code with descriptions (written in the plain text format Markdown). Sections (known as cells) can also be written as code, which can be executed in the browser by pressing run. Here we present two types of code cell- examples, which should run without issue, and exercises, where you are expected to write code that performs some task. __Everything can be edited!__ Correct outputs will be given below the exercises- whilst you know the answers, it is up to you to work out what code should fit in the gaps.\n",
    "\n",
    "## Basic concepts- variables, objects, and types\n",
    "\n",
    "To start working with data, we need to store information in memory, in a way we can reference to use later on. We do this by creating *variables*- named entities we can manipulate in the program. There exist a number of simple variable types that we will use heavily, for example a, b, and c below are an integer (known as an int), a floating point number (a number with a decimal point, also known as a float), and a string (text, distiguished from variable names by use of quotation marks). The equals is used to assign the contents"
   ]
  },
  {
   "cell_type": "code",
   "execution_count": 45,
   "id": "6de4421a",
   "metadata": {},
   "outputs": [],
   "source": [
    "a = 10\n",
    "b = 4.1\n",
    "c = \"words\""
   ]
  },
  {
   "cell_type": "markdown",
   "id": "87fcd44b",
   "metadata": {},
   "source": [
    "We can create variables by performing *operations* on different values- for example we can set a to 15 by adding 10 and five, and we can set b to 22 by adding a and 7"
   ]
  },
  {
   "cell_type": "code",
   "execution_count": 46,
   "id": "f56d7f35",
   "metadata": {},
   "outputs": [],
   "source": [
    "a = 10 + 5\n",
    "b = a + 7"
   ]
  },
  {
   "cell_type": "markdown",
   "id": "0c914b37",
   "metadata": {},
   "source": [
    "Integers, floats, and string are all examples of *objects*, and the specific object a variable represents is known as a *type*. You are always able to mix objects of the same type, but objects of different types may raise an error. So adding two ints is fine"
   ]
  },
  {
   "cell_type": "code",
   "execution_count": 47,
   "id": "6f1b577b",
   "metadata": {},
   "outputs": [
    {
     "data": {
      "text/plain": [
       "15"
      ]
     },
     "execution_count": 47,
     "metadata": {},
     "output_type": "execute_result"
    }
   ],
   "source": [
    "5 + 10"
   ]
  },
  {
   "cell_type": "markdown",
   "id": "2a1a5876",
   "metadata": {},
   "source": [
    "Adding an int and a float is also fine"
   ]
  },
  {
   "cell_type": "code",
   "execution_count": 48,
   "id": "53f7bd74",
   "metadata": {},
   "outputs": [
    {
     "data": {
      "text/plain": [
       "15.1"
      ]
     },
     "execution_count": 48,
     "metadata": {},
     "output_type": "execute_result"
    }
   ],
   "source": [
    "5 + 10.1"
   ]
  },
  {
   "cell_type": "markdown",
   "id": "6b0df68e",
   "metadata": {},
   "source": [
    "But adding a string and an int raises an error (note the quotation marks around the 10, indicating that it is a string)"
   ]
  },
  {
   "cell_type": "code",
   "execution_count": 49,
   "id": "b518ee54",
   "metadata": {},
   "outputs": [
    {
     "ename": "TypeError",
     "evalue": "unsupported operand type(s) for +: 'int' and 'str'",
     "output_type": "error",
     "traceback": [
      "\u001b[1;31m---------------------------------------------------------------------------\u001b[0m",
      "\u001b[1;31mTypeError\u001b[0m                                 Traceback (most recent call last)",
      "\u001b[1;32m~\\AppData\\Local\\Temp\\ipykernel_40096\\2330720926.py\u001b[0m in \u001b[0;36m<module>\u001b[1;34m\u001b[0m\n\u001b[1;32m----> 1\u001b[1;33m \u001b[1;36m5\u001b[0m \u001b[1;33m+\u001b[0m \u001b[1;34m\"10\"\u001b[0m\u001b[1;33m\u001b[0m\u001b[1;33m\u001b[0m\u001b[0m\n\u001b[0m",
      "\u001b[1;31mTypeError\u001b[0m: unsupported operand type(s) for +: 'int' and 'str'"
     ]
    }
   ],
   "source": [
    "5 + \"10\""
   ]
  },
  {
   "cell_type": "markdown",
   "id": "9f4659dd",
   "metadata": {},
   "source": [
    "### Comments\n",
    "\n",
    "*Comments* are pieces of text in the code that are not executed. They can be written to help the reader (including you) understand what the code is doing. Any text behind a *#* on a single line is a comment and not executed, and any text between triple quotation marks over multiple lines is also a comment. "
   ]
  },
  {
   "cell_type": "code",
   "execution_count": 50,
   "id": "521878f9",
   "metadata": {},
   "outputs": [],
   "source": [
    "a = 10 # this is an int\n",
    "'''\n",
    "The code below defines b,\n",
    "a string\n",
    "'''\n",
    "b = \"someText\""
   ]
  },
  {
   "cell_type": "markdown",
   "id": "6bdc6361",
   "metadata": {},
   "source": [
    "## Functions\n",
    "\n",
    "In this case, you may be able to convert one type to another by using a *function*. Functions essentially run code that has been written elsewhere. To run a function you write the functions name, followed by rounded brackets containing inputs, if any for the function. Different inputs for the function are separated by commas.\n",
    "\n",
    "So to convert a string \"10\" to an int we can run *int(\"10\")*. This allows us to complete the sum"
   ]
  },
  {
   "cell_type": "code",
   "execution_count": 51,
   "id": "e5db9dbe",
   "metadata": {},
   "outputs": [
    {
     "data": {
      "text/plain": [
       "15"
      ]
     },
     "execution_count": 51,
     "metadata": {},
     "output_type": "execute_result"
    }
   ],
   "source": [
    "5 + int(\"10\")"
   ]
  },
  {
   "cell_type": "markdown",
   "id": "be5a82ba",
   "metadata": {},
   "source": [
    "A function we will use heavily here is *print*, which writes an input to the screen, converting elements to strings if necessary.\n",
    "\n",
    "The code below prints two things by running print twice. It prints a string, then prints a string and an int, converting the int to a string without the need for explicit conversion"
   ]
  },
  {
   "cell_type": "code",
   "execution_count": 52,
   "id": "2e0de75c",
   "metadata": {},
   "outputs": [
    {
     "name": "stdout",
     "output_type": "stream",
     "text": [
      "This is a test\n"
     ]
    }
   ],
   "source": [
    "print(\"This is a test\")"
   ]
  },
  {
   "cell_type": "code",
   "execution_count": 53,
   "id": "9e79c3d8",
   "metadata": {},
   "outputs": [
    {
     "name": "stdout",
     "output_type": "stream",
     "text": [
      "This number is ten: 10\n"
     ]
    }
   ],
   "source": [
    "print(\"This number is ten:\", 10)"
   ]
  },
  {
   "cell_type": "markdown",
   "id": "3cd61d67",
   "metadata": {},
   "source": [
    "You can define your own functions too. *def* indicates that you are defining a function, the colon indicates the start of the function definition, and indentation is used to separate the code in your function definition from unrelated code written below the function. At the end of the function, the *return* keyword is used to pass data back from the function. If you don't need to return data- for example, if the function is just needed to print a value- the return can be omitted.\n",
    "\n",
    "For example, this code defines a function called addFive, that takes an input, adds five to it, then returns the result. The line of code below the function sets a variable using addFive. This variable is then printed."
   ]
  },
  {
   "cell_type": "code",
   "execution_count": 54,
   "id": "8f480815",
   "metadata": {},
   "outputs": [
    {
     "name": "stdout",
     "output_type": "stream",
     "text": [
      "The result is : 15\n"
     ]
    }
   ],
   "source": [
    "def addFive(inputNumber):\n",
    "    result = inputNumber + 5\n",
    "    return result\n",
    "\n",
    "a = addFive(10) #sets a to 15\n",
    "print(\"The result is :\", a)"
   ]
  },
  {
   "cell_type": "markdown",
   "id": "de48e83b",
   "metadata": {},
   "source": [
    "### Exercise\n",
    "\n",
    "Write a function that squares a number and prints it. Once complete, the code below should print 25 and 49"
   ]
  },
  {
   "cell_type": "code",
   "execution_count": 55,
   "id": "6dbaf038",
   "metadata": {},
   "outputs": [
    {
     "ename": "IndentationError",
     "evalue": "expected an indented block (2583598160.py, line 3)",
     "output_type": "error",
     "traceback": [
      "\u001b[1;36m  File \u001b[1;32m\"C:\\Users\\hallb\\AppData\\Local\\Temp\\ipykernel_40096\\2583598160.py\"\u001b[1;36m, line \u001b[1;32m3\u001b[0m\n\u001b[1;33m    square(5)\u001b[0m\n\u001b[1;37m    ^\u001b[0m\n\u001b[1;31mIndentationError\u001b[0m\u001b[1;31m:\u001b[0m expected an indented block\n"
     ]
    }
   ],
   "source": [
    "def square():\n",
    "    \n",
    "square(5)\n",
    "square(7)"
   ]
  },
  {
   "cell_type": "markdown",
   "id": "f21b552f",
   "metadata": {},
   "source": [
    "Why define our own functions? If we want to run a set of instructions repeatedly a function can avoid us copying and pasting the code. The above code is a simple example, but we can define complex functions and avoid having to repeat them\n",
    "\n",
    "## Loops and conditionals\n",
    "\n",
    "A *loop* is code that is run repeatedly. They are usually controlled by *conditional statements*- terms which evaluate to true or false. Once the condition evaluates to false, the loop stops running. Like function definitions, indentation is used to indicate which code belongs to the loop.\n",
    "\n",
    "```\n",
    "Note- you can create an infinite loop here if you specify the end condition is always true. We don't want to do this here, so if you do by accident you can stop code running with the stop button (square) in the top row of controls.\n",
    "```\n",
    "\n",
    "*while* will run the code until the conditional statement becomes untrue. The example below runs until a is greater than or equal to 5, printing and incrementing a at each step."
   ]
  },
  {
   "cell_type": "code",
   "execution_count": 56,
   "id": "2ec816dd",
   "metadata": {},
   "outputs": [
    {
     "name": "stdout",
     "output_type": "stream",
     "text": [
      "0\n",
      "1\n",
      "2\n",
      "3\n",
      "4\n"
     ]
    }
   ],
   "source": [
    "a = 0\n",
    "while a<5:\n",
    "    print(a)\n",
    "    a = a + 1"
   ]
  },
  {
   "cell_type": "markdown",
   "id": "dc9c685c",
   "metadata": {},
   "source": [
    "The while loop below multiplies a value by 2 until the result is divisible by 32. This code also introduces the *%* operator, which returns the remainder from dividing the first number by the second, and the not equal to comparison *!=*, which returns true if the value is not equal to the value."
   ]
  },
  {
   "cell_type": "code",
   "execution_count": 57,
   "id": "8e4ba436",
   "metadata": {},
   "outputs": [
    {
     "name": "stdout",
     "output_type": "stream",
     "text": [
      "1\n",
      "2\n",
      "4\n",
      "8\n",
      "16\n"
     ]
    }
   ],
   "source": [
    "a=1\n",
    "while a%32 != 0:\n",
    "    print(a)\n",
    "    a = a * 2"
   ]
  },
  {
   "cell_type": "markdown",
   "id": "63f82e64",
   "metadata": {},
   "source": [
    "Conditional statements can also be used in your code outside of loops, to run some code only under certain conditions. Here you can use if statements as below. In the example we define a function that prints a string depending on the value given. If the value is equal to ten, it prints \"10 is ten\". If that is not true, it performs another test (*elif*, meaning else if), and if if the value is 5 it prints \"5 is five\". If neither of these are true, it runs the code following *else*.\n",
    "\n",
    "`Note- when using a value in a conditional statement, we use == to mean is equal to, in order to avoid confusing it with the = used in variable assigment`"
   ]
  },
  {
   "cell_type": "code",
   "execution_count": 58,
   "id": "dab36cea",
   "metadata": {},
   "outputs": [
    {
     "name": "stdout",
     "output_type": "stream",
     "text": [
      "7 is not ten or five\n",
      "10 is ten\n",
      "5 is five\n",
      "2 is not ten or five\n"
     ]
    }
   ],
   "source": [
    "def isThisTenOrFive(inputNumber):\n",
    "    if inputNumber == 10:\n",
    "        print(inputNumber, \"is ten\")\n",
    "    elif inputNumber == 5:\n",
    "        print(inputNumber, \"is five\")\n",
    "    else:\n",
    "        print(inputNumber, \"is not ten or five\")\n",
    "        \n",
    "isThisTenOrFive(7)\n",
    "isThisTenOrFive(10)\n",
    "isThisTenOrFive(5)\n",
    "isThisTenOrFive(2)"
   ]
  },
  {
   "cell_type": "markdown",
   "id": "0b1a9ab2",
   "metadata": {},
   "source": [
    "### Exercise- FizzBuzz\n",
    "\n",
    "Write code that counts from 0 to 20. For each number the code should print the value. If the value divides by 3 also print \"fizz\". If the value divides by 5 also print \"buzz\"."
   ]
  },
  {
   "cell_type": "code",
   "execution_count": null,
   "id": "e343b8da",
   "metadata": {},
   "outputs": [],
   "source": []
  },
  {
   "cell_type": "markdown",
   "id": "8265e926",
   "metadata": {},
   "source": [
    "## Lists\n",
    "\n",
    "So far, all of the types we have used so far represent single values. Python also has a number of *collection* types too that can contain multiple values. A *list* in python is an example of an ordered collection. It can contain different types, and the values in the list can be accessed by using the position of a value in the collection (known as the index). All indices in python start counting from zero, so the first element in a list is the 0th.\n",
    "\n",
    "To define a list you write each element, separated by commas, between square brackets. To retrieve a single value from the list, write the list variable name followed by square brackets containing the list index, as below."
   ]
  },
  {
   "cell_type": "code",
   "execution_count": 59,
   "id": "175a1a2b",
   "metadata": {},
   "outputs": [
    {
     "name": "stdout",
     "output_type": "stream",
     "text": [
      "1\n",
      "6\n"
     ]
    }
   ],
   "source": [
    "aList = [1,2,5,6,9,10] #integers separated by commas\n",
    "print(aList[0]) # prints 1\n",
    "print(aList[3]) # prints 6"
   ]
  },
  {
   "cell_type": "markdown",
   "id": "0d28f9c4",
   "metadata": {},
   "source": [
    "Once you have defined a list, you can use for loops to perform a function on every element. Here we define a local variable called item, that is used in the loop to refer to the current element."
   ]
  },
  {
   "cell_type": "code",
   "execution_count": 60,
   "id": "e9e4ee0e",
   "metadata": {},
   "outputs": [
    {
     "name": "stdout",
     "output_type": "stream",
     "text": [
      "2\n",
      "4\n",
      "10\n",
      "12\n",
      "18\n",
      "20\n"
     ]
    }
   ],
   "source": [
    "for item in aList:\n",
    "    print(item*2)"
   ]
  },
  {
   "cell_type": "markdown",
   "id": "bdb42c3b",
   "metadata": {},
   "source": [
    "You can also create new lists from existing ones using loops. One way to do this is to *append* values to a list, using a *method* associated with list types called append. Methods are functions associated with a type, and are called as shown below"
   ]
  },
  {
   "cell_type": "code",
   "execution_count": 61,
   "id": "cfe8e182",
   "metadata": {},
   "outputs": [
    {
     "name": "stdout",
     "output_type": "stream",
     "text": [
      "[2, 4, 10, 12, 18, 20]\n"
     ]
    }
   ],
   "source": [
    "doubles = [] # this is an empty list\n",
    "for item in aList:\n",
    "    doubles.append(item*2) # the append method adds an item to the list called doubles\n",
    "print(doubles)"
   ]
  },
  {
   "cell_type": "markdown",
   "id": "2d447472",
   "metadata": {},
   "source": [
    "Another approach is to use a *list comprehension*. This generates a list from another list using the syntax below."
   ]
  },
  {
   "cell_type": "code",
   "execution_count": 62,
   "id": "0b5e9043",
   "metadata": {},
   "outputs": [
    {
     "name": "stdout",
     "output_type": "stream",
     "text": [
      "[3, 6, 15, 18, 27, 30]\n"
     ]
    }
   ],
   "source": [
    "triples = [item*3 for item in aList ]\n",
    "print(triples)"
   ]
  },
  {
   "cell_type": "markdown",
   "id": "ad4e8007",
   "metadata": {},
   "source": [
    "### Range\n",
    "\n",
    "Range is a useful function that is commonly used with for loops- it returns a sequence of integers from the inputs. It optionally accepts up to 3 inputs, with start, stop, and step values. Only the stop value is required; start defaults to 0 and step defaults to 1.\n",
    "\n",
    "*range(5)* will return a sequence containing 0,1,2,3,4\n",
    "\n",
    "*range(2,7)* will return a sequence containing 2,3,4,5,6\n",
    "\n",
    "*range(0,10,2)* will return 0,2,4,6,8\n",
    "\n",
    "The code below can be modified to test these"
   ]
  },
  {
   "cell_type": "code",
   "execution_count": 63,
   "id": "ed218a20",
   "metadata": {},
   "outputs": [
    {
     "name": "stdout",
     "output_type": "stream",
     "text": [
      "0\n",
      "2\n",
      "4\n",
      "6\n",
      "8\n"
     ]
    }
   ],
   "source": [
    "for item in range(0,10,2):\n",
    "    print(item)"
   ]
  },
  {
   "cell_type": "markdown",
   "id": "82ac4ead",
   "metadata": {},
   "source": [
    "## Creating your own objects\n",
    "\n",
    "We've seen that python has a number of built in objects, such as ints and lists. Some of these objects have their own methods defined- functions that belong to the object and can perform tasks based on the object. \n",
    "\n",
    "We can define our own objects too. The *class* keyword allows us to define our own named objects, inside which we can define internal methods and variables- functions and variables that are part of any object you create. Object methods always take *self* as an input, allowing the method to refer to variables and methods from itself.\n",
    "\n",
    "There are also a handful of special methods that can be defined for your new objects. This list is not exhaustive but highlights some helpful ones.\n",
    "\n",
    "*\\__init__* is run on creation of the object (i.e. when you create a variable from the class).\n",
    "\n",
    "*\\__repr__* is run when you convert the object to a string (and should return a string).\n",
    "\n",
    "*\\__add__*, *\\__sub__*, and *\\__mul__* can be used to define what happens when you add, subtract, or multiply objects\n",
    "\n",
    "The example below defines a new object (vector) that represents a 2D cartesian vector. The \\__init__ method takes two inputs (and self) to create internal variables that represent the x and y components. \\__repr__ returns a readable string with the state of the vector. \\__add__ allows you to add two vectors, whilst other functions generate values of interest from the vector (the length, and a scaled version of the vector.\n",
    "\n",
    "As an exercise, add *\\__sub__* and *\\__mul__* functions to define what happens when you subtract and multiply two vectors."
   ]
  },
  {
   "cell_type": "code",
   "execution_count": 64,
   "id": "0fd5fcf4",
   "metadata": {},
   "outputs": [
    {
     "name": "stdout",
     "output_type": "stream",
     "text": [
      "x: 1 y: 2\n",
      "2.23606797749979\n",
      "x: 4 y: 6\n"
     ]
    }
   ],
   "source": [
    "class vector:\n",
    "    def __init__(self,x,y):\n",
    "        self.x=x #creates an internal variable x which contains the x component\n",
    "        self.y=y\n",
    "    def length(self):\n",
    "        return (self.x**2+self.y**2)**0.5\n",
    "    def scale(self,factor):\n",
    "        return vector(self.x*factor, self.y*factor)\n",
    "    def __add__(self,other):\n",
    "        return vector(self.x+other.x,self.y+other.y)\n",
    "    def __repr__(self):\n",
    "        return \"x: \"+str(self.x)+\" y: \"+str(self.y)\n",
    "    \n",
    "a=vector(1,2)\n",
    "b=vector(3,4)\n",
    "print(a)\n",
    "print(a.length())\n",
    "print(a+b)"
   ]
  },
  {
   "cell_type": "markdown",
   "id": "70cf81cf",
   "metadata": {},
   "source": [
    "### Inheritance\n",
    "\n",
    "You can also create objects from existing defintions of objects through a process known as *inheritance*. To do this when you define your class you can add another class in brackets before the semi-colon. This causes all of the methods in the original class (known as the base class, the one in brackets) to be automatically copied into the definition, and can be used, or redefined by explicitly rewriting the function.\n",
    "\n",
    "The example below uses vectors again to illustrate this. vector2d defines methods called length and \\__init__. vector3d inherits both of these methods, but redefines \\__init__ so that it can accept 3 cartesian coordinates as input. Running the length method however still works as it has been inherited from the base class."
   ]
  },
  {
   "cell_type": "code",
   "execution_count": 65,
   "id": "b95969b1",
   "metadata": {},
   "outputs": [
    {
     "name": "stdout",
     "output_type": "stream",
     "text": [
      "3.7416573867739413\n"
     ]
    }
   ],
   "source": [
    "class vector2D:\n",
    "    def __init__(self,x,y):\n",
    "        self.cartesian = [x,y]\n",
    "    def length(self):\n",
    "        return (sum([item**2 for item in self.cartesian])**0.5)\n",
    "\n",
    "class vector3D(vector2D):\n",
    "    def __init__(self,x,y,z):\n",
    "        self.cartesian = [x,y,z]\n",
    "        \n",
    "a = vector3D(1,2,3)\n",
    "print(a.length())"
   ]
  },
  {
   "cell_type": "markdown",
   "id": "a77712dd",
   "metadata": {},
   "source": [
    "## Importing external modules\n",
    "\n",
    "We've introduced a few of the built in functions from base python. However, one of the strengths of python is a huge library of functions created by different people and made freely available through package managers such as conda and pip. In Anaconda, you can install modules using the environment tab in the launcher. However, installing them does not make them available in your code- you need to explicitly *import* them to use them. We will use the random number generator *random* and the graphing library *matplotlib* as examples here.\n",
    "\n",
    "We can import modules using the import command. Once a module has been imported, you can use its method as an object as below- randint generates a random integer in the inclusive range of its two inputs"
   ]
  },
  {
   "cell_type": "code",
   "execution_count": 66,
   "id": "d625d770",
   "metadata": {},
   "outputs": [
    {
     "name": "stdout",
     "output_type": "stream",
     "text": [
      "1\n",
      "1\n",
      "1\n",
      "1\n",
      "2\n",
      "0\n",
      "1\n",
      "1\n",
      "1\n",
      "2\n"
     ]
    }
   ],
   "source": [
    "import random\n",
    "for i in range(10):\n",
    "    print(random.randint(0,2))"
   ]
  },
  {
   "cell_type": "markdown",
   "id": "a7824bad",
   "metadata": {},
   "source": [
    "An alternative approach is to just import the specific methods from the module as below- this allows you to use a method without naming the module."
   ]
  },
  {
   "cell_type": "code",
   "execution_count": 67,
   "id": "cd267fc7",
   "metadata": {},
   "outputs": [
    {
     "name": "stdout",
     "output_type": "stream",
     "text": [
      "8\n",
      "10\n",
      "10\n",
      "8\n",
      "10\n",
      "9\n",
      "7\n",
      "10\n",
      "10\n",
      "8\n"
     ]
    }
   ],
   "source": [
    "from random import randint\n",
    "for _ in range(10):\n",
    "    print(random.randint(7,11))"
   ]
  },
  {
   "cell_type": "markdown",
   "id": "a315e1a5",
   "metadata": {},
   "source": [
    "We can also rename a function we've imported using *as*, as shown below. We also introduce the random function in the random module, that returns a random floating point number between 0.0 and 1.0"
   ]
  },
  {
   "cell_type": "code",
   "execution_count": 68,
   "id": "b02276bc",
   "metadata": {},
   "outputs": [
    {
     "data": {
      "text/plain": [
       "<matplotlib.collections.PathCollection at 0x28196839b50>"
      ]
     },
     "execution_count": 68,
     "metadata": {},
     "output_type": "execute_result"
    },
    {
     "data": {
      "image/png": "[encoded data removed]",
      "text/plain": [
       "<Figure size 640x480 with 1 Axes>"
      ]
     },
     "metadata": {},
     "output_type": "display_data"
    }
   ],
   "source": [
    "from matplotlib import pyplot as pt\n",
    "from random import random as rand\n",
    "x = [rand() for _ in range(100)]\n",
    "y = [(rand()+1) for _ in range(100)]\n",
    "pt.scatter(x,y)"
   ]
  },
  {
   "cell_type": "markdown",
   "id": "01247513",
   "metadata": {},
   "source": [
    "There are lots of different functions within each module- it is worth exploring the documentation to find exactly which one you need. Read the random documentation here https://docs.python.org/3/library/random.html and edit the code below replacing the random function with normalvariate, expovariate, and gammavariate to explore what difference they make."
   ]
  },
  {
   "cell_type": "code",
   "execution_count": 69,
   "id": "12315139",
   "metadata": {},
   "outputs": [
    {
     "data": {
      "text/plain": [
       "<matplotlib.collections.PathCollection at 0x2819693bbe0>"
      ]
     },
     "execution_count": 69,
     "metadata": {},
     "output_type": "execute_result"
    },
    {
     "data": {
      "image/png": "[encoded data removed]",
      "text/plain": [
       "<Figure size 640x480 with 1 Axes>"
      ]
     },
     "metadata": {},
     "output_type": "display_data"
    }
   ],
   "source": [
    "from matplotlib import pyplot as pt\n",
    "from random import random as rand\n",
    "x = [rand() for _ in range(100)]\n",
    "y = [(rand()+1) for _ in range(100)]\n",
    "pt.scatter(x,y)"
   ]
  },
  {
   "cell_type": "code",
   "execution_count": null,
   "id": "060b168b",
   "metadata": {},
   "outputs": [],
   "source": []
  },
  {
   "cell_type": "code",
   "execution_count": null,
   "id": "7783d1a4",
   "metadata": {},
   "outputs": [],
   "source": []
  }
 ],
 "metadata": {
  "kernelspec": {
   "display_name": "Python 3 (ipykernel)",
   "language": "python",
   "name": "python3"
  },
  "language_info": {
   "codemirror_mode": {
    "name": "ipython",
    "version": 3
   },
   "file_extension": ".py",
   "mimetype": "text/x-python",
   "name": "python",
   "nbconvert_exporter": "python",
   "pygments_lexer": "ipython3",
   "version": "3.8.13"
  }
 },
 "nbformat": 4,
 "nbformat_minor": 5
}
